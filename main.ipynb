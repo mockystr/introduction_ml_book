{
 "cells": [
  {
   "cell_type": "code",
   "execution_count": 1,
   "metadata": {},
   "outputs": [],
   "source": [
    "import numpy as np\n",
    "import matplotlib.pyplot as plt\n",
    "%matplotlib inline\n",
    "import pandas as pd\n",
    "import mglearn\n",
    "from IPython.display import display\n",
    "plt.rc('font', family='Verdana')"
   ]
  },
  {
   "cell_type": "code",
   "execution_count": 24,
   "metadata": {},
   "outputs": [
    {
     "data": {
      "text/html": [
       "<div>\n",
       "<style scoped>\n",
       "    .dataframe tbody tr th:only-of-type {\n",
       "        vertical-align: middle;\n",
       "    }\n",
       "\n",
       "    .dataframe tbody tr th {\n",
       "        vertical-align: top;\n",
       "    }\n",
       "\n",
       "    .dataframe thead th {\n",
       "        text-align: right;\n",
       "    }\n",
       "</style>\n",
       "<table border=\"1\" class=\"dataframe\">\n",
       "  <thead>\n",
       "    <tr style=\"text-align: right;\">\n",
       "      <th></th>\n",
       "      <th>age</th>\n",
       "      <th>workclass</th>\n",
       "      <th>education</th>\n",
       "      <th>gender</th>\n",
       "      <th>hours-per-week</th>\n",
       "      <th>occupation</th>\n",
       "      <th>income</th>\n",
       "    </tr>\n",
       "  </thead>\n",
       "  <tbody>\n",
       "    <tr>\n",
       "      <th>0</th>\n",
       "      <td>39</td>\n",
       "      <td>State-gov</td>\n",
       "      <td>Bachelors</td>\n",
       "      <td>Male</td>\n",
       "      <td>40</td>\n",
       "      <td>Adm-clerical</td>\n",
       "      <td>&lt;=50K</td>\n",
       "    </tr>\n",
       "    <tr>\n",
       "      <th>1</th>\n",
       "      <td>50</td>\n",
       "      <td>Self-emp-not-inc</td>\n",
       "      <td>Bachelors</td>\n",
       "      <td>Male</td>\n",
       "      <td>13</td>\n",
       "      <td>Exec-managerial</td>\n",
       "      <td>&lt;=50K</td>\n",
       "    </tr>\n",
       "    <tr>\n",
       "      <th>2</th>\n",
       "      <td>38</td>\n",
       "      <td>Private</td>\n",
       "      <td>HS-grad</td>\n",
       "      <td>Male</td>\n",
       "      <td>40</td>\n",
       "      <td>Handlers-cleaners</td>\n",
       "      <td>&lt;=50K</td>\n",
       "    </tr>\n",
       "    <tr>\n",
       "      <th>3</th>\n",
       "      <td>53</td>\n",
       "      <td>Private</td>\n",
       "      <td>11th</td>\n",
       "      <td>Male</td>\n",
       "      <td>40</td>\n",
       "      <td>Handlers-cleaners</td>\n",
       "      <td>&lt;=50K</td>\n",
       "    </tr>\n",
       "    <tr>\n",
       "      <th>4</th>\n",
       "      <td>28</td>\n",
       "      <td>Private</td>\n",
       "      <td>Bachelors</td>\n",
       "      <td>Female</td>\n",
       "      <td>40</td>\n",
       "      <td>Prof-specialty</td>\n",
       "      <td>&lt;=50K</td>\n",
       "    </tr>\n",
       "  </tbody>\n",
       "</table>\n",
       "</div>"
      ],
      "text/plain": [
       "   age         workclass  education  gender  hours-per-week  \\\n",
       "0   39         State-gov  Bachelors    Male              40   \n",
       "1   50  Self-emp-not-inc  Bachelors    Male              13   \n",
       "2   38           Private    HS-grad    Male              40   \n",
       "3   53           Private       11th    Male              40   \n",
       "4   28           Private  Bachelors  Female              40   \n",
       "\n",
       "          occupation income  \n",
       "0       Adm-clerical  <=50K  \n",
       "1    Exec-managerial  <=50K  \n",
       "2  Handlers-cleaners  <=50K  \n",
       "3  Handlers-cleaners  <=50K  \n",
       "4     Prof-specialty  <=50K  "
      ]
     },
     "metadata": {},
     "output_type": "display_data"
    }
   ],
   "source": [
    "import pandas as pd\n",
    "# Файл не содержит заголовков столбцов, поэтому мы передаем header=None\n",
    "# и записываем имена столбцов прямо в \"names\"\n",
    "data = pd.read_csv(\"adult.csv\", header=0, index_col=False,\n",
    "                names=['age', 'workclass', 'fnlwgt', 'education', 'education-num',\n",
    "                'marital-status', 'occupation', 'relationship', 'race', 'gender',\n",
    "                'capital-gain', 'capital-loss', 'hours-per-week', 'native-country',\n",
    "                'income'])\n",
    "# В целях упрощения мы выберем лишь некоторые столбцы\n",
    "data = data[['age', 'workclass', 'education', 'gender', 'hours-per-week',\n",
    "'occupation', 'income']]\n",
    "# IPython.display позволяет вывести красивый вывод, отформатированный в Jupyter notebook\n",
    "display(data.head())"
   ]
  },
  {
   "cell_type": "code",
   "execution_count": 25,
   "metadata": {},
   "outputs": [
    {
     "name": "stdout",
     "output_type": "stream",
     "text": [
      "Male      21790\n",
      "Female    10771\n",
      "Name: gender, dtype: int64\n"
     ]
    }
   ],
   "source": [
    "print(data.gender.value_counts())"
   ]
  },
  {
   "cell_type": "code",
   "execution_count": 26,
   "metadata": {
    "scrolled": true
   },
   "outputs": [
    {
     "name": "stdout",
     "output_type": "stream",
     "text": [
      "Исходные признаки:\n",
      " ['age', 'workclass', 'education', 'gender', 'hours-per-week', 'occupation', 'income'] \n",
      "\n",
      "Признаки после get_dummies:\n",
      " ['age', 'hours-per-week', 'workclass_?', 'workclass_Federal-gov', 'workclass_Local-gov', 'workclass_Never-worked', 'workclass_Private', 'workclass_Self-emp-inc', 'workclass_Self-emp-not-inc', 'workclass_State-gov', 'workclass_Without-pay', 'education_10th', 'education_11th', 'education_12th', 'education_1st-4th', 'education_5th-6th', 'education_7th-8th', 'education_9th', 'education_Assoc-acdm', 'education_Assoc-voc', 'education_Bachelors', 'education_Doctorate', 'education_HS-grad', 'education_Masters', 'education_Preschool', 'education_Prof-school', 'education_Some-college', 'gender_Female', 'gender_Male', 'occupation_?', 'occupation_Adm-clerical', 'occupation_Armed-Forces', 'occupation_Craft-repair', 'occupation_Exec-managerial', 'occupation_Farming-fishing', 'occupation_Handlers-cleaners', 'occupation_Machine-op-inspct', 'occupation_Other-service', 'occupation_Priv-house-serv', 'occupation_Prof-specialty', 'occupation_Protective-serv', 'occupation_Sales', 'occupation_Tech-support', 'occupation_Transport-moving', 'income_<=50K', 'income_>50K']\n"
     ]
    }
   ],
   "source": [
    "print(\"Исходные признаки:\\n\", list(data.columns), \"\\n\")\n",
    "data_dummies = pd.get_dummies(data)\n",
    "print(\"Признаки после get_dummies:\\n\", list(data_dummies.columns))"
   ]
  },
  {
   "cell_type": "code",
   "execution_count": 27,
   "metadata": {},
   "outputs": [
    {
     "data": {
      "text/plain": [
       "(5, 46)"
      ]
     },
     "execution_count": 27,
     "metadata": {},
     "output_type": "execute_result"
    }
   ],
   "source": [
    "data_dummies.head().shape"
   ]
  },
  {
   "cell_type": "code",
   "execution_count": 30,
   "metadata": {},
   "outputs": [
    {
     "name": "stdout",
     "output_type": "stream",
     "text": [
      "форма массива X: (32561, 44) форма массива y: (32561,)\n"
     ]
    },
    {
     "name": "stderr",
     "output_type": "stream",
     "text": [
      "/anaconda3/lib/python3.7/site-packages/ipykernel_launcher.py:4: DeprecationWarning: \n",
      ".ix is deprecated. Please use\n",
      ".loc for label based indexing or\n",
      ".iloc for positional indexing\n",
      "\n",
      "See the documentation here:\n",
      "http://pandas.pydata.org/pandas-docs/stable/indexing.html#ix-indexer-is-deprecated\n",
      "  after removing the cwd from sys.path.\n"
     ]
    }
   ],
   "source": [
    "# Берем только те столбцы, которые содержат признаки,\n",
    "# то есть все столбцы, начиная с 'age' и заканчивая 'occupation_ Transport-moving'\n",
    "# Этот диапазон содержит все признаки, кроме целевой переменной\n",
    "features = data_dummies.ix[:, 'age':'occupation_Transport-moving']\n",
    "# Извлекаем массивы NumPy\n",
    "X = features.values\n",
    "y = data_dummies['income_>50K'].values\n",
    "print(\"форма массива X: {} форма массива y: {}\".format(X.shape, y.shape))"
   ]
  },
  {
   "cell_type": "code",
   "execution_count": 31,
   "metadata": {},
   "outputs": [
    {
     "name": "stderr",
     "output_type": "stream",
     "text": [
      "/anaconda3/lib/python3.7/site-packages/sklearn/linear_model/logistic.py:433: FutureWarning: Default solver will be changed to 'lbfgs' in 0.22. Specify a solver to silence this warning.\n",
      "  FutureWarning)\n"
     ]
    },
    {
     "name": "stdout",
     "output_type": "stream",
     "text": [
      "Правильность на тестовом наборе: 0.81\n"
     ]
    }
   ],
   "source": [
    "from sklearn.linear_model import LogisticRegression\n",
    "from sklearn.model_selection import train_test_split\n",
    "X_train, X_test, y_train, y_test = train_test_split(X, y, random_state=0)\n",
    "logreg = LogisticRegression()\n",
    "logreg.fit(X_train, y_train)\n",
    "print(\"Правильность на тестовом наборе: {:.2f}\".format(logreg.score(X_test, y_test)))"
   ]
  },
  {
   "cell_type": "code",
   "execution_count": 32,
   "metadata": {},
   "outputs": [
    {
     "data": {
      "text/plain": [
       "<matplotlib.legend.Legend at 0x1c1f1b6908>"
      ]
     },
     "execution_count": 32,
     "metadata": {},
     "output_type": "execute_result"
    },
    {
     "data": {
      "image/png": "[encoded data removed]",
      "text/plain": [
       "<Figure size 432x288 with 1 Axes>"
      ]
     },
     "metadata": {
      "needs_background": "light"
     },
     "output_type": "display_data"
    }
   ],
   "source": [
    "from sklearn.linear_model import LinearRegression\n",
    "from sklearn.tree import DecisionTreeRegressor\n",
    "X, y = mglearn.datasets.make_wave(n_samples=100)\n",
    "line = np.linspace(-3, 3, 1000, endpoint=False).reshape(-1, 1)\n",
    "reg = DecisionTreeRegressor(min_samples_split=3).fit(X, y)\n",
    "plt.plot(line, reg.predict(line), label=\"дерево решений\")\n",
    "reg = LinearRegression().fit(X, y)\n",
    "plt.plot(line, reg.predict(line), label=\"линейная регрессия\")\n",
    "plt.plot(X[:, 0], y, 'o', c='k')\n",
    "plt.ylabel(\"Выход регрессии\")\n",
    "plt.xlabel(\"Входной признак\")\n",
    "plt.legend(loc=\"best\")"
   ]
  },
  {
   "cell_type": "code",
   "execution_count": 33,
   "metadata": {},
   "outputs": [
    {
     "name": "stdout",
     "output_type": "stream",
     "text": [
      "категории: [-3.  -2.4 -1.8 -1.2 -0.6  0.   0.6  1.2  1.8  2.4  3. ]\n"
     ]
    }
   ],
   "source": [
    "bins = np.linspace(-3, 3, 11)\n",
    "print(\"категории: {}\".format(bins))"
   ]
  },
  {
   "cell_type": "code",
   "execution_count": 36,
   "metadata": {},
   "outputs": [
    {
     "name": "stdout",
     "output_type": "stream",
     "text": [
      "\n",
      "Точки данных:\n",
      " [[-0.75275929]\n",
      " [ 2.70428584]\n",
      " [ 1.39196365]\n",
      " [ 0.59195091]\n",
      " [-2.06388816]\n",
      " [-2.06403288]\n",
      " [-2.65149833]\n",
      " [ 2.19705687]\n",
      " [ 0.60669007]\n",
      " [ 1.24843547]]\n",
      "\n",
      "Категории для точек данных:\n",
      " [[ 4]\n",
      " [10]\n",
      " [ 8]\n",
      " [ 6]\n",
      " [ 2]\n",
      " [ 2]\n",
      " [ 1]\n",
      " [ 9]\n",
      " [ 7]\n",
      " [ 8]]\n"
     ]
    }
   ],
   "source": [
    "which_bin = np.digitize(X, bins=bins)\n",
    "print(\"\\nТочки данных:\\n\", X[:10])\n",
    "print(\"\\nКатегории для точек данных:\\n\", which_bin[:10])"
   ]
  },
  {
   "cell_type": "code",
   "execution_count": 37,
   "metadata": {},
   "outputs": [
    {
     "name": "stdout",
     "output_type": "stream",
     "text": [
      "[[0. 0. 0. 1. 0. 0. 0. 0. 0. 0.]\n",
      " [0. 0. 0. 0. 0. 0. 0. 0. 0. 1.]\n",
      " [0. 0. 0. 0. 0. 0. 0. 1. 0. 0.]\n",
      " [0. 0. 0. 0. 0. 1. 0. 0. 0. 0.]\n",
      " [0. 1. 0. 0. 0. 0. 0. 0. 0. 0.]]\n"
     ]
    },
    {
     "name": "stderr",
     "output_type": "stream",
     "text": [
      "/anaconda3/lib/python3.7/site-packages/sklearn/preprocessing/_encoders.py:371: FutureWarning: The handling of integer data will change in version 0.22. Currently, the categories are determined based on the range [0, max(values)], while in the future they will be determined based on the unique values.\n",
      "If you want the future behaviour and silence this warning, you can specify \"categories='auto'\".\n",
      "In case you used a LabelEncoder before this OneHotEncoder to convert the categories to integers, then you can now use the OneHotEncoder directly.\n",
      "  warnings.warn(msg, FutureWarning)\n"
     ]
    }
   ],
   "source": [
    "from sklearn.preprocessing import OneHotEncoder\n",
    "# преобразовываем с помощью OneHotEncoder\n",
    "encoder = OneHotEncoder(sparse=False)\n",
    "# encoder.fit находит уникальные значения, имеющиеся в which_bin\n",
    "encoder.fit(which_bin)\n",
    "# transform осуществляет прямое кодирование\n",
    "X_binned = encoder.transform(which_bin)\n",
    "print(X_binned[:5])"
   ]
  },
  {
   "cell_type": "code",
   "execution_count": 38,
   "metadata": {},
   "outputs": [
    {
     "name": "stdout",
     "output_type": "stream",
     "text": [
      "форма массива X_binned: (100, 10)\n"
     ]
    }
   ],
   "source": [
    "print(\"форма массива X_binned: {}\".format(X_binned.shape))"
   ]
  },
  {
   "cell_type": "code",
   "execution_count": 56,
   "metadata": {},
   "outputs": [
    {
     "name": "stdout",
     "output_type": "stream",
     "text": [
      "[[1. 0. 0. ... 0. 0. 0.]\n",
      " [1. 0. 0. ... 0. 0. 0.]\n",
      " [1. 0. 0. ... 0. 0. 0.]\n",
      " ...\n",
      " [0. 0. 0. ... 0. 0. 1.]\n",
      " [0. 0. 0. ... 0. 0. 1.]\n",
      " [0. 0. 0. ... 0. 0. 1.]]\n"
     ]
    },
    {
     "data": {
      "text/plain": [
       "Text(0.5, 0, 'Входной признак')"
      ]
     },
     "execution_count": 56,
     "metadata": {},
     "output_type": "execute_result"
    },
    {
     "data": {
      "image/png": "[encoded data removed]",
      "text/plain": [
       "<Figure size 432x288 with 1 Axes>"
      ]
     },
     "metadata": {
      "needs_background": "light"
     },
     "output_type": "display_data"
    }
   ],
   "source": [
    "line_binned = encoder.transform(np.digitize(line, bins=bins))\n",
    "print(line_binned)\n",
    "reg = LinearRegression().fit(X_binned, y)\n",
    "plt.plot(line, reg.predict(line_binned), label='линейная регрессия после биннинга')\n",
    "reg = DecisionTreeRegressor(min_samples_split=3).fit(X_binned, y)\n",
    "plt.plot(line, reg.predict(line_binned), label='дерево решений после биннинга')\n",
    "plt.plot(X[:, 0], y, 'o', c='k')\n",
    "plt.vlines(bins, -3, 3, linewidth=1, alpha=.2)\n",
    "plt.legend(loc=\"best\")\n",
    "plt.ylabel(\"Выход регрессии\")\n",
    "plt.xlabel(\"Входной признак\")"
   ]
  },
  {
   "cell_type": "code",
   "execution_count": 48,
   "metadata": {},
   "outputs": [
    {
     "name": "stdout",
     "output_type": "stream",
     "text": [
      "(100, 11)\n"
     ]
    }
   ],
   "source": [
    "X_combined = np.hstack([X, X_binned])\n",
    "print(X_combined.shape)"
   ]
  },
  {
   "cell_type": "code",
   "execution_count": 51,
   "metadata": {},
   "outputs": [
    {
     "data": {
      "text/plain": [
       "[<matplotlib.lines.Line2D at 0x1c20db0da0>]"
      ]
     },
     "execution_count": 51,
     "metadata": {},
     "output_type": "execute_result"
    },
    {
     "data": {
      "image/png": "[encoded data removed]",
      "text/plain": [
       "<Figure size 432x288 with 1 Axes>"
      ]
     },
     "metadata": {
      "needs_background": "light"
     },
     "output_type": "display_data"
    }
   ],
   "source": [
    "reg = LinearRegression().fit(X_combined, y)\n",
    "line_combined = np.hstack([line, line_binned])\n",
    "plt.plot(line, reg.predict(line_combined), label='линейная регрессия после комбинирования')\n",
    "for bin in bins:\n",
    "    plt.plot([bin, bin], [-3, 3], ':', c='k')\n",
    "plt.legend(loc=\"best\")\n",
    "plt.ylabel(\"Выход регрессии\")\n",
    "plt.xlabel(\"Входной признак\")\n",
    "plt.plot(X[:, 0], y, 'o', c='k')"
   ]
  },
  {
   "cell_type": "code",
   "execution_count": 62,
   "metadata": {},
   "outputs": [
    {
     "name": "stdout",
     "output_type": "stream",
     "text": [
      "(100, 20)\n",
      "[[ 0.          0.          0.          1.          0.          0.\n",
      "   0.          0.          0.          0.         -0.         -0.\n",
      "  -0.         -0.75275929 -0.         -0.         -0.         -0.\n",
      "  -0.         -0.        ]\n",
      " [ 0.          0.          0.          0.          0.          0.\n",
      "   0.          0.          0.          1.          0.          0.\n",
      "   0.          0.          0.          0.          0.          0.\n",
      "   0.          2.70428584]\n",
      " [ 0.          0.          0.          0.          0.          0.\n",
      "   0.          1.          0.          0.          0.          0.\n",
      "   0.          0.          0.          0.          0.          1.39196365\n",
      "   0.          0.        ]\n",
      " [ 0.          0.          0.          0.          0.          1.\n",
      "   0.          0.          0.          0.          0.          0.\n",
      "   0.          0.          0.          0.59195091  0.          0.\n",
      "   0.          0.        ]\n",
      " [ 0.          1.          0.          0.          0.          0.\n",
      "   0.          0.          0.          0.         -0.         -2.06388816\n",
      "  -0.         -0.         -0.         -0.         -0.         -0.\n",
      "  -0.         -0.        ]]\n"
     ]
    }
   ],
   "source": [
    "X_product = np.hstack([X_binned, X * X_binned])\n",
    "print(X_product.shape)\n",
    "print(X_product[:5])"
   ]
  },
  {
   "cell_type": "code",
   "execution_count": 60,
   "metadata": {},
   "outputs": [
    {
     "data": {
      "text/plain": [
       "<matplotlib.legend.Legend at 0x1c22bf52b0>"
      ]
     },
     "execution_count": 60,
     "metadata": {},
     "output_type": "execute_result"
    },
    {
     "data": {
      "image/png": "[encoded data removed]",
      "text/plain": [
       "<Figure size 432x288 with 1 Axes>"
      ]
     },
     "metadata": {
      "needs_background": "light"
     },
     "output_type": "display_data"
    }
   ],
   "source": [
    "reg = LinearRegression().fit(X_product, y)\n",
    "line_product = np.hstack([line_binned, line * line_binned])\n",
    "plt.plot(line, reg.predict(line_product), label='линейная регрессия произведение')\n",
    "for bin in bins:\n",
    "    plt.plot([bin, bin], [-3, 3], ':', c='k')\n",
    "plt.plot(X[:, 0], y, 'o', c='k')\n",
    "plt.ylabel(\"Выход регрессии\")\n",
    "plt.xlabel(\"Входной признак\")\n",
    "plt.legend(loc=\"best\")"
   ]
  },
  {
   "cell_type": "code",
   "execution_count": 63,
   "metadata": {},
   "outputs": [],
   "source": [
    "from sklearn.preprocessing import PolynomialFeatures\n",
    "# задаем степень полинома 10:\n",
    "# значение по умолчанию \"include_bias=True\" добавляет признак-константу 1\n",
    "poly = PolynomialFeatures(degree=10, include_bias=False)\n",
    "poly.fit(X)\n",
    "X_poly = poly.transform(X)"
   ]
  },
  {
   "cell_type": "code",
   "execution_count": 64,
   "metadata": {},
   "outputs": [
    {
     "name": "stdout",
     "output_type": "stream",
     "text": [
      "форма массива X_poly: (100, 10)\n"
     ]
    }
   ],
   "source": [
    "print(\"форма массива X_poly: {}\".format(X_poly.shape))"
   ]
  },
  {
   "cell_type": "code",
   "execution_count": 65,
   "metadata": {},
   "outputs": [
    {
     "name": "stdout",
     "output_type": "stream",
     "text": [
      "Элементы массива X:\n",
      "[[-0.75275929]\n",
      " [ 2.70428584]\n",
      " [ 1.39196365]\n",
      " [ 0.59195091]\n",
      " [-2.06388816]]\n",
      "Элементы массива X_poly:\n",
      "[[-7.52759287e-01  5.66646544e-01 -4.26548448e-01  3.21088306e-01\n",
      "  -2.41702204e-01  1.81943579e-01 -1.36959719e-01  1.03097700e-01\n",
      "  -7.76077513e-02  5.84199555e-02]\n",
      " [ 2.70428584e+00  7.31316190e+00  1.97768801e+01  5.34823369e+01\n",
      "   1.44631526e+02  3.91124988e+02  1.05771377e+03  2.86036036e+03\n",
      "   7.73523202e+03  2.09182784e+04]\n",
      " [ 1.39196365e+00  1.93756281e+00  2.69701700e+00  3.75414962e+00\n",
      "   5.22563982e+00  7.27390068e+00  1.01250053e+01  1.40936394e+01\n",
      "   1.96178338e+01  2.73073115e+01]\n",
      " [ 5.91950905e-01  3.50405874e-01  2.07423074e-01  1.22784277e-01\n",
      "   7.26822637e-02  4.30243318e-02  2.54682921e-02  1.50759786e-02\n",
      "   8.92423917e-03  5.28271146e-03]\n",
      " [-2.06388816e+00  4.25963433e+00 -8.79140884e+00  1.81444846e+01\n",
      "  -3.74481869e+01  7.72888694e+01 -1.59515582e+02  3.29222321e+02\n",
      "  -6.79478050e+02  1.40236670e+03]]\n"
     ]
    }
   ],
   "source": [
    "print(\"Элементы массива X:\\n{}\".format(X[:5]))\n",
    "print(\"Элементы массива X_poly:\\n{}\".format(X_poly[:5]))"
   ]
  },
  {
   "cell_type": "code",
   "execution_count": 66,
   "metadata": {},
   "outputs": [
    {
     "data": {
      "text/plain": [
       "<matplotlib.legend.Legend at 0x1c22cb9390>"
      ]
     },
     "execution_count": 66,
     "metadata": {},
     "output_type": "execute_result"
    },
    {
     "data": {
      "image/png": "[encoded data removed]",
      "text/plain": [
       "<Figure size 432x288 with 1 Axes>"
      ]
     },
     "metadata": {
      "needs_background": "light"
     },
     "output_type": "display_data"
    }
   ],
   "source": [
    "reg = LinearRegression().fit(X_poly, y)\n",
    "line_poly = poly.transform(line)\n",
    "plt.plot(line, reg.predict(line_poly), label='полиномиальная линейная регрессия')\n",
    "plt.plot(X[:, 0], y, 'o', c='k')\n",
    "plt.ylabel(\"Выход регрессии\")\n",
    "plt.xlabel(\"Входной признак\")\n",
    "plt.legend(loc=\"best\")"
   ]
  },
  {
   "cell_type": "code",
   "execution_count": 68,
   "metadata": {},
   "outputs": [
    {
     "data": {
      "text/plain": [
       "<matplotlib.legend.Legend at 0x1c22e2a898>"
      ]
     },
     "execution_count": 68,
     "metadata": {},
     "output_type": "execute_result"
    },
    {
     "data": {
      "image/png": "[encoded data removed]",
      "text/plain": [
       "<Figure size 432x288 with 1 Axes>"
      ]
     },
     "metadata": {
      "needs_background": "light"
     },
     "output_type": "display_data"
    }
   ],
   "source": [
    "from sklearn.svm import SVR\n",
    "for gamma in [1, 10]:\n",
    "    svr = SVR(gamma=gamma).fit(X, y)\n",
    "    plt.plot(line, svr.predict(line), label='SVR gamma={}'.format(gamma))\n",
    "plt.plot(X[:, 0], y, 'o', c='k')\n",
    "plt.ylabel(\"Выход регрессии\")\n",
    "plt.xlabel(\"Входной признак\")\n",
    "plt.legend(loc=\"best\")"
   ]
  },
  {
   "cell_type": "code",
   "execution_count": 78,
   "metadata": {},
   "outputs": [],
   "source": [
    "from sklearn.datasets import load_boston\n",
    "from sklearn.model_selection import train_test_split\n",
    "from sklearn.preprocessing import MinMaxScaler\n",
    "\n",
    "\n",
    "boston = load_boston()\n",
    "X_train, X_test, y_train, y_test = train_test_split(boston.data, boston.target,random_state=0)\n",
    "# масштабируем данные\n",
    "scaler = MinMaxScaler()\n",
    "X_train_scaled = scaler.fit_transform(X_train)\n",
    "X_test_scaled = scaler.transform(X_test)"
   ]
  },
  {
   "cell_type": "code",
   "execution_count": 76,
   "metadata": {},
   "outputs": [
    {
     "name": "stdout",
     "output_type": "stream",
     "text": [
      "форма обучающего массива X: (379, 13)\n",
      "форма обучающего массива X полиномы и взаим: (379, 105)\n"
     ]
    }
   ],
   "source": [
    "poly = PolynomialFeatures(degree=2).fit(X_train_scaled)\n",
    "X_train_poly = poly.transform(X_train_scaled)\n",
    "X_test_poly = poly.transform(X_test_scaled)\n",
    "print(\"форма обучающего массива X: {}\".format(X_train.shape))\n",
    "print(\"форма обучающего массива X полиномы и взаим: {}\".format(X_train_poly.shape))"
   ]
  },
  {
   "cell_type": "code",
   "execution_count": 79,
   "metadata": {},
   "outputs": [
    {
     "name": "stdout",
     "output_type": "stream",
     "text": [
      "R-квадрат на тестовом наборе без взаимодействий: 0.621\n",
      "R-квадрат на тестовом наборе с взаимодействиями: 0.753\n"
     ]
    }
   ],
   "source": [
    "from sklearn.linear_model import Ridge\n",
    "ridge = Ridge().fit(X_train_scaled, y_train)\n",
    "print(\"R-квадрат на тестовом наборе без взаимодействий: {:.3f}\".format(\n",
    "ridge.score(X_test_scaled, y_test)))\n",
    "ridge = Ridge().fit(X_train_poly, y_train)\n",
    "print(\"R-квадрат на тестовом наборе с взаимодействиями: {:.3f}\".format(\n",
    "ridge.score(X_test_poly, y_test)))"
   ]
  },
  {
   "cell_type": "code",
   "execution_count": 80,
   "metadata": {},
   "outputs": [
    {
     "name": "stdout",
     "output_type": "stream",
     "text": [
      "R-квадрат на тестовом наборе без взаимодействий: 0.801\n",
      "R-квадрат на тестовом наборе с взаимодействиями: 0.773\n"
     ]
    }
   ],
   "source": [
    "from sklearn.ensemble import RandomForestRegressor\n",
    "rf = RandomForestRegressor(n_estimators=100).fit(X_train_scaled, y_train)\n",
    "print(\"R-квадрат на тестовом наборе без взаимодействий: {:.3f}\".format(\n",
    "rf.score(X_test_scaled, y_test)))\n",
    "rf = RandomForestRegressor(n_estimators=100).fit(X_train_poly, y_train)\n",
    "print(\"R-квадрат на тестовом наборе с взаимодействиями: {:.3f}\".format(rf.score(X_test_poly, y_test)))"
   ]
  },
  {
   "cell_type": "code",
   "execution_count": 81,
   "metadata": {},
   "outputs": [],
   "source": [
    "rnd = np.random.RandomState(0)\n",
    "X_org = rnd.normal(size=(1000, 3))\n",
    "w = rnd.normal(size=3)\n",
    "X = rnd.poisson(10 * np.exp(X_org))\n",
    "y = np.dot(X_org, w)"
   ]
  },
  {
   "cell_type": "code",
   "execution_count": 96,
   "metadata": {},
   "outputs": [
    {
     "name": "stdout",
     "output_type": "stream",
     "text": [
      "Частоты значений:\n",
      "[28 38 68 48 61 59 45 56 37 40 35 34 36 26 23 26 27 21 23 23 18 21 10  9\n",
      " 17  9  7 14 12  7  3  8  4  5  5  3  4  2  4  1  1  3  2  5  3  8  2  5\n",
      "  2  1  2  3  3  2  2  3  3  0  1  2  1  0  0  3  1  0  0  0  1  3  0  1\n",
      "  0  2  0  1  1  0  0  0  0  1  0  0  2  2  0  1  1  0  0  0  0  1  1  0\n",
      "  0  0  0  0  0  0  1  0  0  0  0  0  1  1  0  0  1  0  0  0  0  0  0  0\n",
      "  1  0  0  0  0  1  0  0  0  0  0  0  0  0  0  0  0  0  0  0  1]\n"
     ]
    },
    {
     "data": {
      "image/png": "[encoded data removed]",
      "text/plain": [
       "<Figure size 432x288 with 1 Axes>"
      ]
     },
     "metadata": {
      "needs_background": "light"
     },
     "output_type": "display_data"
    }
   ],
   "source": [
    "np_bincount_X = np.bincount(X[:, 0])\n",
    "plt.plot(np.arange(len(np_bincount_X)), np_bincount_X)\n",
    "print(\"Частоты значений:\\n{}\".format(np_bincount_X))"
   ]
  },
  {
   "cell_type": "code",
   "execution_count": 102,
   "metadata": {},
   "outputs": [
    {
     "data": {
      "text/plain": [
       "Text(0.5, 0, 'Значение')"
      ]
     },
     "execution_count": 102,
     "metadata": {},
     "output_type": "execute_result"
    },
    {
     "data": {
      "image/png": "[encoded data removed]",
      "text/plain": [
       "<Figure size 432x288 with 1 Axes>"
      ]
     },
     "metadata": {
      "needs_background": "light"
     },
     "output_type": "display_data"
    }
   ],
   "source": [
    "bins = np.bincount(X[:, 0])\n",
    "plt.bar(range(len(bins)), bins, color='gray')\n",
    "plt.ylabel(\"Частота\")\n",
    "plt.xlabel(\"Значение\")"
   ]
  },
  {
   "cell_type": "code",
   "execution_count": 103,
   "metadata": {},
   "outputs": [
    {
     "name": "stdout",
     "output_type": "stream",
     "text": [
      "R-квадрат на тестовом наборе: 0.622\n"
     ]
    }
   ],
   "source": [
    "from sklearn.linear_model import Ridge\n",
    "X_train, X_test, y_train, y_test = train_test_split(X, y, random_state=0)\n",
    "score = Ridge().fit(X_train, y_train).score(X_test, y_test)\n",
    "print(\"R-квадрат на тестовом наборе: {:.3f}\".format(score))"
   ]
  },
  {
   "cell_type": "code",
   "execution_count": 104,
   "metadata": {},
   "outputs": [],
   "source": [
    "X_train_log = np.log(X_train + 1)\n",
    "X_test_log = np.log(X_test + 1)"
   ]
  },
  {
   "cell_type": "code",
   "execution_count": 105,
   "metadata": {},
   "outputs": [
    {
     "data": {
      "text/plain": [
       "Text(0.5, 0, 'Значение')"
      ]
     },
     "execution_count": 105,
     "metadata": {},
     "output_type": "execute_result"
    },
    {
     "data": {
      "image/png": "[encoded data removed]",
      "text/plain": [
       "<Figure size 432x288 with 1 Axes>"
      ]
     },
     "metadata": {
      "needs_background": "light"
     },
     "output_type": "display_data"
    }
   ],
   "source": [
    "plt.hist(X_train_log[:, 0], bins=25, color='gray')\n",
    "plt.ylabel(\"Частота\")\n",
    "plt.xlabel(\"Значение\")"
   ]
  },
  {
   "cell_type": "code",
   "execution_count": 106,
   "metadata": {},
   "outputs": [
    {
     "name": "stdout",
     "output_type": "stream",
     "text": [
      "R-квадрат на тестовом наборе: 0.875\n"
     ]
    }
   ],
   "source": [
    "score = Ridge().fit(X_train_log, y_train).score(X_test_log, y_test)\n",
    "print(\"R-квадрат на тестовом наборе: {:.3f}\".format(score))"
   ]
  },
  {
   "cell_type": "code",
   "execution_count": 109,
   "metadata": {},
   "outputs": [
    {
     "name": "stdout",
     "output_type": "stream",
     "text": [
      "R-квадрат на тестовом наборе: -609.276\n"
     ]
    }
   ],
   "source": [
    "score = Ridge().fit(X_train_log, y_train).score(X_test, y_test)\n",
    "print(\"R-квадрат на тестовом наборе: {:.3f}\".format(score))"
   ]
  },
  {
   "cell_type": "code",
   "execution_count": 113,
   "metadata": {},
   "outputs": [
    {
     "name": "stdout",
     "output_type": "stream",
     "text": [
      "30\n",
      "форма массива X_train: (284, 80)\n",
      "форма массива X_train_selected: (284, 40)\n"
     ]
    }
   ],
   "source": [
    "from sklearn.datasets import load_breast_cancer\n",
    "from sklearn.feature_selection import SelectPercentile\n",
    "from sklearn.model_selection import train_test_split\n",
    "cancer = load_breast_cancer()\n",
    "# задаем определенное стартовое значение для воспроизводимости результата\n",
    "rng = np.random.RandomState(42)\n",
    "noise = rng.normal(size=(len(cancer.data), 50))\n",
    "# добавляем к данным шумовые признаки\n",
    "# первые 30 признаков являются исходными, остальные 50 являются шумовыми\n",
    "X_w_noise = np.hstack([cancer.data, noise])\n",
    "X_train, X_test, y_train, y_test = train_test_split(X_w_noise, cancer.target, random_state=0, test_size=.5)\n",
    "# используем f_classif (по умолчанию)\n",
    "# и SelectPercentile, чтобы выбрать 50% признаков\n",
    "select = SelectPercentile(percentile=50)\n",
    "select.fit(X_train, y_train)\n",
    "# преобразовываем обучающий набор\n",
    "X_train_selected = select.transform(X_train)\n",
    "print(\"форма массива X_train: {}\".format(X_train.shape))\n",
    "print(\"форма массива X_train_selected: {}\".format(X_train_selected.shape))"
   ]
  },
  {
   "cell_type": "code",
   "execution_count": 116,
   "metadata": {},
   "outputs": [
    {
     "name": "stdout",
     "output_type": "stream",
     "text": [
      "[ True  True  True  True  True  True  True  True  True False  True False\n",
      "  True  True  True  True  True  True False False  True  True  True  True\n",
      "  True  True  True  True  True  True False False False  True False  True\n",
      " False False  True False False False False  True False False  True False\n",
      " False  True False  True False False False False False False  True False\n",
      "  True False False False False  True False  True False False False False\n",
      "  True  True False  True False False False False]\n"
     ]
    },
    {
     "data": {
      "text/plain": [
       "Text(0.5, 0, 'Индекс примера')"
      ]
     },
     "execution_count": 116,
     "metadata": {},
     "output_type": "execute_result"
    },
    {
     "data": {
      "image/png": "[encoded data removed]",
      "text/plain": [
       "<Figure size 1152x144 with 1 Axes>"
      ]
     },
     "metadata": {
      "needs_background": "light"
     },
     "output_type": "display_data"
    }
   ],
   "source": [
    "mask = select.get_support()\n",
    "print(mask)\n",
    "# визуализируем булевы значения: черный – True, белый – False\n",
    "plt.matshow(mask.reshape(1, -1), cmap='gray_r')\n",
    "plt.xlabel(\"Индекс примера\")"
   ]
  },
  {
   "cell_type": "code",
   "execution_count": 127,
   "metadata": {
    "scrolled": true
   },
   "outputs": [
    {
     "name": "stdout",
     "output_type": "stream",
     "text": [
      "Правильность со всеми признаками: 0.930\n",
      "Правильность только с отобранными признаками: 0.940\n"
     ]
    },
    {
     "name": "stderr",
     "output_type": "stream",
     "text": [
      "/anaconda3/lib/python3.7/site-packages/sklearn/linear_model/logistic.py:433: FutureWarning: Default solver will be changed to 'lbfgs' in 0.22. Specify a solver to silence this warning.\n",
      "  FutureWarning)\n",
      "/anaconda3/lib/python3.7/site-packages/sklearn/linear_model/logistic.py:433: FutureWarning: Default solver will be changed to 'lbfgs' in 0.22. Specify a solver to silence this warning.\n",
      "  FutureWarning)\n"
     ]
    }
   ],
   "source": [
    "from sklearn.linear_model import LogisticRegression\n",
    "# преобразовываем тестовые данные\n",
    "X_test_selected = select.transform(X_test)\n",
    "lr = LogisticRegression()\n",
    "lr.fit(X_train, y_train)\n",
    "print(\"Правильность со всеми признаками: {:.3f}\".format(lr.score(X_test, y_test)))\n",
    "lr.fit(X_train_selected, y_train)\n",
    "print(\"Правильность только с отобранными признаками: {:.3f}\".format(\n",
    "lr.score(X_test_selected, y_test)))"
   ]
  },
  {
   "cell_type": "code",
   "execution_count": 128,
   "metadata": {},
   "outputs": [],
   "source": [
    "from sklearn.feature_selection import SelectFromModel\n",
    "from sklearn.ensemble import RandomForestClassifier\n",
    "select = SelectFromModel(RandomForestClassifier(n_estimators=100, random_state=42),threshold=\"median\")"
   ]
  },
  {
   "cell_type": "code",
   "execution_count": 129,
   "metadata": {},
   "outputs": [
    {
     "name": "stdout",
     "output_type": "stream",
     "text": [
      "форма обуч набора X: (284, 80)\n",
      "форма обуч набора X c l1: (284, 40)\n"
     ]
    }
   ],
   "source": [
    "select.fit(X_train, y_train)\n",
    "X_train_l1 = select.transform(X_train)\n",
    "print(\"форма обуч набора X: {}\".format(X_train.shape))\n",
    "print(\"форма обуч набора X c l1: {}\".format(X_train_l1.shape))"
   ]
  },
  {
   "cell_type": "code",
   "execution_count": 131,
   "metadata": {},
   "outputs": [
    {
     "data": {
      "text/plain": [
       "Text(0.5, 0, 'Индекс примера')"
      ]
     },
     "execution_count": 131,
     "metadata": {},
     "output_type": "execute_result"
    },
    {
     "data": {
      "image/png": "[encoded data removed]",
      "text/plain": [
       "<Figure size 1152x144 with 1 Axes>"
      ]
     },
     "metadata": {
      "needs_background": "light"
     },
     "output_type": "display_data"
    }
   ],
   "source": [
    "mask = select.get_support()\n",
    "# визуализируем булевы значения -- черный – True, белый – False\n",
    "plt.matshow(mask.reshape(1, -1), cmap='gray_r')\n",
    "plt.xlabel(\"Индекс примера\")"
   ]
  },
  {
   "cell_type": "code",
   "execution_count": 132,
   "metadata": {},
   "outputs": [
    {
     "name": "stdout",
     "output_type": "stream",
     "text": [
      "Правильность на тестовом наборе: 0.951\n"
     ]
    },
    {
     "name": "stderr",
     "output_type": "stream",
     "text": [
      "/anaconda3/lib/python3.7/site-packages/sklearn/linear_model/logistic.py:433: FutureWarning: Default solver will be changed to 'lbfgs' in 0.22. Specify a solver to silence this warning.\n",
      "  FutureWarning)\n"
     ]
    }
   ],
   "source": [
    "X_test_l1 = select.transform(X_test)\n",
    "score = LogisticRegression().fit(X_train_l1, y_train).score(X_test_l1, y_test)\n",
    "print(\"Правильность на тестовом наборе: {:.3f}\".format(score))"
   ]
  },
  {
   "cell_type": "code",
   "execution_count": 133,
   "metadata": {},
   "outputs": [
    {
     "data": {
      "text/plain": [
       "Text(0.5, 0, 'Индекс примера')"
      ]
     },
     "execution_count": 133,
     "metadata": {},
     "output_type": "execute_result"
    },
    {
     "data": {
      "image/png": "[encoded data removed]",
      "text/plain": [
       "<Figure size 1152x144 with 1 Axes>"
      ]
     },
     "metadata": {
      "needs_background": "light"
     },
     "output_type": "display_data"
    }
   ],
   "source": [
    "from sklearn.feature_selection import RFE\n",
    "select = RFE(RandomForestClassifier(n_estimators=100, random_state=42),\n",
    "n_features_to_select=40)\n",
    "select.fit(X_train, y_train)\n",
    "# визуализируем отобранные признаки:\n",
    "mask = select.get_support()\n",
    "plt.matshow(mask.reshape(1, -1), cmap='gray_r')\n",
    "plt.xlabel(\"Индекс примера\")"
   ]
  },
  {
   "cell_type": "code",
   "execution_count": 134,
   "metadata": {},
   "outputs": [
    {
     "name": "stdout",
     "output_type": "stream",
     "text": [
      "Правильность на тестовом наборе: 0.951\n"
     ]
    },
    {
     "name": "stderr",
     "output_type": "stream",
     "text": [
      "/anaconda3/lib/python3.7/site-packages/sklearn/linear_model/logistic.py:433: FutureWarning: Default solver will be changed to 'lbfgs' in 0.22. Specify a solver to silence this warning.\n",
      "  FutureWarning)\n"
     ]
    }
   ],
   "source": [
    "X_train_rfe= select.transform(X_train)\n",
    "X_test_rfe= select.transform(X_test)\n",
    "score = LogisticRegression().fit(X_train_rfe, y_train).score(X_test_rfe, y_test)\n",
    "print(\"Правильность на тестовом наборе: {:.3f}\".format(score))"
   ]
  },
  {
   "cell_type": "code",
   "execution_count": 135,
   "metadata": {},
   "outputs": [
    {
     "name": "stdout",
     "output_type": "stream",
     "text": [
      "Правильность на тестовом наборе: 0.951\n"
     ]
    }
   ],
   "source": [
    "print(\"Правильность на тестовом наборе: {:.3f}\".format(select.score(X_test, y_test)))"
   ]
  },
  {
   "cell_type": "code",
   "execution_count": 151,
   "metadata": {},
   "outputs": [
    {
     "data": {
      "text/html": [
       "<div>\n",
       "<style scoped>\n",
       "    .dataframe tbody tr th:only-of-type {\n",
       "        vertical-align: middle;\n",
       "    }\n",
       "\n",
       "    .dataframe tbody tr th {\n",
       "        vertical-align: top;\n",
       "    }\n",
       "\n",
       "    .dataframe thead th {\n",
       "        text-align: right;\n",
       "    }\n",
       "</style>\n",
       "<table border=\"1\" class=\"dataframe\">\n",
       "  <thead>\n",
       "    <tr style=\"text-align: right;\">\n",
       "      <th></th>\n",
       "      <th>tripduration</th>\n",
       "      <th>starttime</th>\n",
       "      <th>stoptime</th>\n",
       "      <th>start station id</th>\n",
       "      <th>start station name</th>\n",
       "      <th>start station latitude</th>\n",
       "      <th>start station longitude</th>\n",
       "      <th>end station id</th>\n",
       "      <th>end station name</th>\n",
       "      <th>end station latitude</th>\n",
       "      <th>end station longitude</th>\n",
       "      <th>bikeid</th>\n",
       "      <th>usertype</th>\n",
       "      <th>birth year</th>\n",
       "      <th>gender</th>\n",
       "    </tr>\n",
       "  </thead>\n",
       "  <tbody>\n",
       "    <tr>\n",
       "      <th>0</th>\n",
       "      <td>695</td>\n",
       "      <td>2013-06-01 00:00:01</td>\n",
       "      <td>2013-06-01 00:11:36</td>\n",
       "      <td>444</td>\n",
       "      <td>Broadway &amp; W 24 St</td>\n",
       "      <td>40.742354</td>\n",
       "      <td>-73.989151</td>\n",
       "      <td>434.0</td>\n",
       "      <td>9 Ave &amp; W 18 St</td>\n",
       "      <td>40.743174</td>\n",
       "      <td>-74.003664</td>\n",
       "      <td>19678</td>\n",
       "      <td>Subscriber</td>\n",
       "      <td>1983.0</td>\n",
       "      <td>1</td>\n",
       "    </tr>\n",
       "    <tr>\n",
       "      <th>1</th>\n",
       "      <td>693</td>\n",
       "      <td>2013-06-01 00:00:08</td>\n",
       "      <td>2013-06-01 00:11:41</td>\n",
       "      <td>444</td>\n",
       "      <td>Broadway &amp; W 24 St</td>\n",
       "      <td>40.742354</td>\n",
       "      <td>-73.989151</td>\n",
       "      <td>434.0</td>\n",
       "      <td>9 Ave &amp; W 18 St</td>\n",
       "      <td>40.743174</td>\n",
       "      <td>-74.003664</td>\n",
       "      <td>16649</td>\n",
       "      <td>Subscriber</td>\n",
       "      <td>1984.0</td>\n",
       "      <td>1</td>\n",
       "    </tr>\n",
       "    <tr>\n",
       "      <th>2</th>\n",
       "      <td>2059</td>\n",
       "      <td>2013-06-01 00:00:44</td>\n",
       "      <td>2013-06-01 00:35:03</td>\n",
       "      <td>406</td>\n",
       "      <td>Hicks St &amp; Montague St</td>\n",
       "      <td>40.695128</td>\n",
       "      <td>-73.995951</td>\n",
       "      <td>406.0</td>\n",
       "      <td>Hicks St &amp; Montague St</td>\n",
       "      <td>40.695128</td>\n",
       "      <td>-73.995951</td>\n",
       "      <td>19599</td>\n",
       "      <td>Customer</td>\n",
       "      <td>NaN</td>\n",
       "      <td>0</td>\n",
       "    </tr>\n",
       "    <tr>\n",
       "      <th>3</th>\n",
       "      <td>123</td>\n",
       "      <td>2013-06-01 00:01:04</td>\n",
       "      <td>2013-06-01 00:03:07</td>\n",
       "      <td>475</td>\n",
       "      <td>E 15 St &amp; Irving Pl</td>\n",
       "      <td>40.735243</td>\n",
       "      <td>-73.987586</td>\n",
       "      <td>262.0</td>\n",
       "      <td>Washington Park</td>\n",
       "      <td>40.691782</td>\n",
       "      <td>-73.973730</td>\n",
       "      <td>16352</td>\n",
       "      <td>Subscriber</td>\n",
       "      <td>1960.0</td>\n",
       "      <td>1</td>\n",
       "    </tr>\n",
       "    <tr>\n",
       "      <th>4</th>\n",
       "      <td>1521</td>\n",
       "      <td>2013-06-01 00:01:22</td>\n",
       "      <td>2013-06-01 00:26:43</td>\n",
       "      <td>2008</td>\n",
       "      <td>Little West St &amp; 1 Pl</td>\n",
       "      <td>40.705693</td>\n",
       "      <td>-74.016777</td>\n",
       "      <td>310.0</td>\n",
       "      <td>State St &amp; Smith St</td>\n",
       "      <td>40.689269</td>\n",
       "      <td>-73.989129</td>\n",
       "      <td>15567</td>\n",
       "      <td>Subscriber</td>\n",
       "      <td>1983.0</td>\n",
       "      <td>1</td>\n",
       "    </tr>\n",
       "  </tbody>\n",
       "</table>\n",
       "</div>"
      ],
      "text/plain": [
       "   tripduration            starttime             stoptime  start station id  \\\n",
       "0           695  2013-06-01 00:00:01  2013-06-01 00:11:36               444   \n",
       "1           693  2013-06-01 00:00:08  2013-06-01 00:11:41               444   \n",
       "2          2059  2013-06-01 00:00:44  2013-06-01 00:35:03               406   \n",
       "3           123  2013-06-01 00:01:04  2013-06-01 00:03:07               475   \n",
       "4          1521  2013-06-01 00:01:22  2013-06-01 00:26:43              2008   \n",
       "\n",
       "       start station name  start station latitude  start station longitude  \\\n",
       "0      Broadway & W 24 St               40.742354               -73.989151   \n",
       "1      Broadway & W 24 St               40.742354               -73.989151   \n",
       "2  Hicks St & Montague St               40.695128               -73.995951   \n",
       "3     E 15 St & Irving Pl               40.735243               -73.987586   \n",
       "4   Little West St & 1 Pl               40.705693               -74.016777   \n",
       "\n",
       "   end station id        end station name  end station latitude  \\\n",
       "0           434.0         9 Ave & W 18 St             40.743174   \n",
       "1           434.0         9 Ave & W 18 St             40.743174   \n",
       "2           406.0  Hicks St & Montague St             40.695128   \n",
       "3           262.0         Washington Park             40.691782   \n",
       "4           310.0     State St & Smith St             40.689269   \n",
       "\n",
       "   end station longitude  bikeid    usertype  birth year  gender  \n",
       "0             -74.003664   19678  Subscriber      1983.0       1  \n",
       "1             -74.003664   16649  Subscriber      1984.0       1  \n",
       "2             -73.995951   19599    Customer         NaN       0  \n",
       "3             -73.973730   16352  Subscriber      1960.0       1  \n",
       "4             -73.989129   15567  Subscriber      1983.0       1  "
      ]
     },
     "metadata": {},
     "output_type": "display_data"
    },
    {
     "data": {
      "text/html": [
       "<div>\n",
       "<style scoped>\n",
       "    .dataframe tbody tr th:only-of-type {\n",
       "        vertical-align: middle;\n",
       "    }\n",
       "\n",
       "    .dataframe tbody tr th {\n",
       "        vertical-align: top;\n",
       "    }\n",
       "\n",
       "    .dataframe thead th {\n",
       "        text-align: right;\n",
       "    }\n",
       "</style>\n",
       "<table border=\"1\" class=\"dataframe\">\n",
       "  <thead>\n",
       "    <tr style=\"text-align: right;\">\n",
       "      <th></th>\n",
       "      <th>tripduration</th>\n",
       "      <th>start station id</th>\n",
       "      <th>start station latitude</th>\n",
       "      <th>start station longitude</th>\n",
       "      <th>end station id</th>\n",
       "      <th>end station latitude</th>\n",
       "      <th>end station longitude</th>\n",
       "      <th>bikeid</th>\n",
       "      <th>birth year</th>\n",
       "      <th>gender</th>\n",
       "      <th>one</th>\n",
       "    </tr>\n",
       "    <tr>\n",
       "      <th>starttime</th>\n",
       "      <th></th>\n",
       "      <th></th>\n",
       "      <th></th>\n",
       "      <th></th>\n",
       "      <th></th>\n",
       "      <th></th>\n",
       "      <th></th>\n",
       "      <th></th>\n",
       "      <th></th>\n",
       "      <th></th>\n",
       "      <th></th>\n",
       "    </tr>\n",
       "  </thead>\n",
       "  <tbody>\n",
       "    <tr>\n",
       "      <th>2013-06-01 00:00:00</th>\n",
       "      <td>818789</td>\n",
       "      <td>141272</td>\n",
       "      <td>13073.649152</td>\n",
       "      <td>-23751.138666</td>\n",
       "      <td>141147.0</td>\n",
       "      <td>12788.707686</td>\n",
       "      <td>-23232.625598</td>\n",
       "      <td>5691425</td>\n",
       "      <td>453216.0</td>\n",
       "      <td>264</td>\n",
       "      <td>321</td>\n",
       "    </tr>\n",
       "    <tr>\n",
       "      <th>2013-06-01 03:00:00</th>\n",
       "      <td>158757</td>\n",
       "      <td>26130</td>\n",
       "      <td>2850.882293</td>\n",
       "      <td>-5179.458215</td>\n",
       "      <td>30632.0</td>\n",
       "      <td>2728.758344</td>\n",
       "      <td>-4957.408935</td>\n",
       "      <td>1236712</td>\n",
       "      <td>85132.0</td>\n",
       "      <td>46</td>\n",
       "      <td>70</td>\n",
       "    </tr>\n",
       "    <tr>\n",
       "      <th>2013-06-01 06:00:00</th>\n",
       "      <td>621045</td>\n",
       "      <td>139477</td>\n",
       "      <td>12625.924434</td>\n",
       "      <td>-22937.097203</td>\n",
       "      <td>130547.0</td>\n",
       "      <td>12219.104003</td>\n",
       "      <td>-22197.216164</td>\n",
       "      <td>5456893</td>\n",
       "      <td>532613.0</td>\n",
       "      <td>328</td>\n",
       "      <td>310</td>\n",
       "    </tr>\n",
       "    <tr>\n",
       "      <th>2013-06-01 09:00:00</th>\n",
       "      <td>2332865</td>\n",
       "      <td>500810</td>\n",
       "      <td>45944.070476</td>\n",
       "      <td>-83461.462146</td>\n",
       "      <td>518600.0</td>\n",
       "      <td>44436.983003</td>\n",
       "      <td>-80724.517946</td>\n",
       "      <td>19701634</td>\n",
       "      <td>1702281.0</td>\n",
       "      <td>1096</td>\n",
       "      <td>1128</td>\n",
       "    </tr>\n",
       "    <tr>\n",
       "      <th>2013-06-01 12:00:00</th>\n",
       "      <td>4523040</td>\n",
       "      <td>835587</td>\n",
       "      <td>78609.451607</td>\n",
       "      <td>-142802.569159</td>\n",
       "      <td>828954.0</td>\n",
       "      <td>75675.972844</td>\n",
       "      <td>-137476.631874</td>\n",
       "      <td>33972597</td>\n",
       "      <td>2448095.0</td>\n",
       "      <td>1553</td>\n",
       "      <td>1930</td>\n",
       "    </tr>\n",
       "  </tbody>\n",
       "</table>\n",
       "</div>"
      ],
      "text/plain": [
       "                     tripduration  start station id  start station latitude  \\\n",
       "starttime                                                                     \n",
       "2013-06-01 00:00:00        818789            141272            13073.649152   \n",
       "2013-06-01 03:00:00        158757             26130             2850.882293   \n",
       "2013-06-01 06:00:00        621045            139477            12625.924434   \n",
       "2013-06-01 09:00:00       2332865            500810            45944.070476   \n",
       "2013-06-01 12:00:00       4523040            835587            78609.451607   \n",
       "\n",
       "                     start station longitude  end station id  \\\n",
       "starttime                                                      \n",
       "2013-06-01 00:00:00            -23751.138666        141147.0   \n",
       "2013-06-01 03:00:00             -5179.458215         30632.0   \n",
       "2013-06-01 06:00:00            -22937.097203        130547.0   \n",
       "2013-06-01 09:00:00            -83461.462146        518600.0   \n",
       "2013-06-01 12:00:00           -142802.569159        828954.0   \n",
       "\n",
       "                     end station latitude  end station longitude    bikeid  \\\n",
       "starttime                                                                    \n",
       "2013-06-01 00:00:00          12788.707686          -23232.625598   5691425   \n",
       "2013-06-01 03:00:00           2728.758344           -4957.408935   1236712   \n",
       "2013-06-01 06:00:00          12219.104003          -22197.216164   5456893   \n",
       "2013-06-01 09:00:00          44436.983003          -80724.517946  19701634   \n",
       "2013-06-01 12:00:00          75675.972844         -137476.631874  33972597   \n",
       "\n",
       "                     birth year  gender   one  \n",
       "starttime                                      \n",
       "2013-06-01 00:00:00    453216.0     264   321  \n",
       "2013-06-01 03:00:00     85132.0      46    70  \n",
       "2013-06-01 06:00:00    532613.0     328   310  \n",
       "2013-06-01 09:00:00   1702281.0    1096  1128  \n",
       "2013-06-01 12:00:00   2448095.0    1553  1930  "
      ]
     },
     "metadata": {},
     "output_type": "display_data"
    },
    {
     "data": {
      "text/plain": [
       "starttime\n",
       "2013-06-01 00:00:00     321\n",
       "2013-06-01 03:00:00      70\n",
       "2013-06-01 06:00:00     310\n",
       "2013-06-01 09:00:00    1128\n",
       "2013-06-01 12:00:00    1930\n",
       "2013-06-01 15:00:00    2105\n",
       "2013-06-01 18:00:00    1851\n",
       "2013-06-01 21:00:00    1007\n",
       "2013-06-02 00:00:00     532\n",
       "2013-06-02 03:00:00     129\n",
       "2013-06-02 06:00:00     351\n",
       "2013-06-02 09:00:00    2251\n",
       "2013-06-02 12:00:00    4235\n",
       "2013-06-02 15:00:00    4397\n",
       "2013-06-02 18:00:00    3128\n",
       "2013-06-02 21:00:00     948\n",
       "2013-06-03 00:00:00      92\n",
       "2013-06-03 03:00:00      24\n",
       "2013-06-03 06:00:00     442\n",
       "2013-06-03 09:00:00     559\n",
       "2013-06-03 12:00:00    1509\n",
       "2013-06-03 15:00:00    1802\n",
       "2013-06-03 18:00:00    2238\n",
       "2013-06-03 21:00:00     932\n",
       "2013-06-04 00:00:00     191\n",
       "2013-06-04 03:00:00      73\n",
       "2013-06-04 06:00:00    1975\n",
       "2013-06-04 09:00:00    2098\n",
       "2013-06-04 12:00:00    2474\n",
       "2013-06-04 15:00:00    3351\n",
       "                       ... \n",
       "2013-06-27 09:00:00    3937\n",
       "2013-06-27 12:00:00    3502\n",
       "2013-06-27 15:00:00    5138\n",
       "2013-06-27 18:00:00    5780\n",
       "2013-06-27 21:00:00    1149\n",
       "2013-06-28 00:00:00     485\n",
       "2013-06-28 03:00:00     208\n",
       "2013-06-28 06:00:00    3882\n",
       "2013-06-28 09:00:00    3980\n",
       "2013-06-28 12:00:00    4601\n",
       "2013-06-28 15:00:00    6688\n",
       "2013-06-28 18:00:00    5474\n",
       "2013-06-28 21:00:00    2500\n",
       "2013-06-29 00:00:00    1069\n",
       "2013-06-29 03:00:00     299\n",
       "2013-06-29 06:00:00     956\n",
       "2013-06-29 09:00:00    4075\n",
       "2013-06-29 12:00:00    7195\n",
       "2013-06-29 15:00:00    7438\n",
       "2013-06-29 18:00:00    5909\n",
       "2013-06-29 21:00:00    2812\n",
       "2013-06-30 00:00:00    1353\n",
       "2013-06-30 03:00:00     354\n",
       "2013-06-30 06:00:00     795\n",
       "2013-06-30 09:00:00    3745\n",
       "2013-06-30 12:00:00    6584\n",
       "2013-06-30 15:00:00    4703\n",
       "2013-06-30 18:00:00    5173\n",
       "2013-06-30 21:00:00    2202\n",
       "2013-07-01 00:00:00       1\n",
       "Freq: 3H, Name: one, Length: 241, dtype: int64"
      ]
     },
     "metadata": {},
     "output_type": "display_data"
    }
   ],
   "source": [
    "def load_citibike():\n",
    "    data_mine = pd.read_csv(\"citibike.csv\")\n",
    "    display(data_mine.head())\n",
    "    data_mine['one'] = 1\n",
    "    \n",
    "    data_mine['starttime'] = pd.to_datetime(data_mine.starttime)\n",
    "    data_starttime = data_mine.set_index(\"starttime\")\n",
    "    data_resampled = data_starttime.resample(\"3h\").sum().fillna(0)\n",
    "    display(data_resampled.head())\n",
    "    display(data_resampled.one)\n",
    "    return data_resampled.one\n",
    "citibike = load_citibike()"
   ]
  },
  {
   "cell_type": "code",
   "execution_count": 146,
   "metadata": {},
   "outputs": [
    {
     "name": "stdout",
     "output_type": "stream",
     "text": [
      "данные Citi Bike:\n",
      "starttime\n",
      "2013-06-01 00:00:00     321\n",
      "2013-06-01 03:00:00      70\n",
      "2013-06-01 06:00:00     310\n",
      "2013-06-01 09:00:00    1128\n",
      "2013-06-01 12:00:00    1930\n",
      "Freq: 3H, Name: one, dtype: int64\n"
     ]
    }
   ],
   "source": [
    "print(\"данные Citi Bike:\\n{}\".format(citibike.head()))"
   ]
  },
  {
   "cell_type": "code",
   "execution_count": 147,
   "metadata": {},
   "outputs": [
    {
     "name": "stderr",
     "output_type": "stream",
     "text": [
      "/anaconda3/lib/python3.7/site-packages/pandas/plotting/_converter.py:129: FutureWarning: Using an implicitly registered datetime converter for a matplotlib plotting method. The converter was registered by pandas on import. Future versions of pandas will require you to explicitly register matplotlib converters.\n",
      "\n",
      "To register the converters:\n",
      "\t>>> from pandas.plotting import register_matplotlib_converters\n",
      "\t>>> register_matplotlib_converters()\n",
      "  warnings.warn(msg, FutureWarning)\n"
     ]
    },
    {
     "data": {
      "text/plain": [
       "Text(0, 0.5, 'Частота проката')"
      ]
     },
     "execution_count": 147,
     "metadata": {},
     "output_type": "execute_result"
    },
    {
     "data": {
      "image/png": "[encoded data removed]",
      "text/plain": [
       "<Figure size 720x216 with 1 Axes>"
      ]
     },
     "metadata": {
      "needs_background": "light"
     },
     "output_type": "display_data"
    }
   ],
   "source": [
    "plt.figure(figsize=(10, 3))\n",
    "xticks = pd.date_range(start=citibike.index.min(), end=citibike.index.max(),\n",
    "freq='D')\n",
    "plt.xticks(xticks, xticks.strftime(\"%a %m-%d\"), rotation=90, ha=\"left\")\n",
    "plt.plot(citibike, linewidth=1)\n",
    "plt.xlabel(\"Дата\")\n",
    "plt.ylabel(\"Частота проката\")"
   ]
  },
  {
   "cell_type": "code",
   "execution_count": 152,
   "metadata": {},
   "outputs": [
    {
     "name": "stdout",
     "output_type": "stream",
     "text": [
      "<class 'pandas.core.series.Series'>\n"
     ]
    },
    {
     "ename": "AttributeError",
     "evalue": "'Int64Index' object has no attribute 'reshape'",
     "output_type": "error",
     "traceback": [
      "\u001b[0;31m---------------------------------------------------------------------------\u001b[0m",
      "\u001b[0;31mAttributeError\u001b[0m                            Traceback (most recent call last)",
      "\u001b[0;32m<ipython-input-152-7a7b984cd8b0>\u001b[0m in \u001b[0;36m<module>\u001b[0;34m\u001b[0m\n\u001b[1;32m      2\u001b[0m \u001b[0mprint\u001b[0m\u001b[0;34m(\u001b[0m\u001b[0mtype\u001b[0m\u001b[0;34m(\u001b[0m\u001b[0my\u001b[0m\u001b[0;34m)\u001b[0m\u001b[0;34m)\u001b[0m\u001b[0;34m\u001b[0m\u001b[0;34m\u001b[0m\u001b[0m\n\u001b[1;32m      3\u001b[0m \u001b[0;31m# преобразуем время в формат POSIX с помощью \"%s\"\u001b[0m\u001b[0;34m\u001b[0m\u001b[0;34m\u001b[0m\u001b[0;34m\u001b[0m\u001b[0m\n\u001b[0;32m----> 4\u001b[0;31m \u001b[0mX\u001b[0m \u001b[0;34m=\u001b[0m \u001b[0mcitibike\u001b[0m\u001b[0;34m.\u001b[0m\u001b[0mindex\u001b[0m\u001b[0;34m.\u001b[0m\u001b[0mastype\u001b[0m\u001b[0;34m(\u001b[0m\u001b[0;34m\"int64\"\u001b[0m\u001b[0;34m)\u001b[0m\u001b[0;34m.\u001b[0m\u001b[0mreshape\u001b[0m\u001b[0;34m(\u001b[0m\u001b[0;34m-\u001b[0m\u001b[0;36m1\u001b[0m\u001b[0;34m,\u001b[0m \u001b[0;36m1\u001b[0m\u001b[0;34m)\u001b[0m \u001b[0;34m//\u001b[0m \u001b[0;36m10\u001b[0m\u001b[0;34m**\u001b[0m\u001b[0;36m9\u001b[0m\u001b[0;34m\u001b[0m\u001b[0;34m\u001b[0m\u001b[0m\n\u001b[0m",
      "\u001b[0;31mAttributeError\u001b[0m: 'Int64Index' object has no attribute 'reshape'"
     ]
    }
   ],
   "source": [
    "y = citibike\n",
    "print(type(y))\n",
    "# преобразуем время в формат POSIX с помощью \"%s\"\n",
    "X = citibike.index.astype(\"int64\").reshape(-1, 1) // 10**9"
   ]
  },
  {
   "cell_type": "code",
   "execution_count": null,
   "metadata": {},
   "outputs": [],
   "source": []
  }
 ],
 "metadata": {
  "kernelspec": {
   "display_name": "Python 3",
   "language": "python",
   "name": "python3"
  },
  "language_info": {
   "codemirror_mode": {
    "name": "ipython",
    "version": 3
   },
   "file_extension": ".py",
   "mimetype": "text/x-python",
   "name": "python",
   "nbconvert_exporter": "python",
   "pygments_lexer": "ipython3",
   "version": "3.7.2"
  }
 },
 "nbformat": 4,
 "nbformat_minor": 2
}
